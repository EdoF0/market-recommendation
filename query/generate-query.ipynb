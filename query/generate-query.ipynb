{
 "cells": [
  {
   "cell_type": "markdown",
   "id": "a03ec2fc",
   "metadata": {},
   "source": [
    "<b> Generazione delle query (812) per tutte le colonne di categories_1 </b>"
   ]
  },
  {
   "cell_type": "code",
   "execution_count": 9,
   "id": "52a5d8a6",
   "metadata": {},
   "outputs": [],
   "source": [
    "lista_colonne = []\n",
    "file1 = open('categories1.txt', 'r')\n",
    "\n",
    "lines = file1.readlines()\n",
    "for line in lines:\n",
    "    lista_colonne.append(line.strip())\n",
    "    \n",
    "lista_query_user_interest = []\n",
    "\n",
    "for given in lista_colonne:\n",
    "    for target in lista_colonne:\n",
    "        if (given != target):\n",
    "            lista_query_user_interest.append(f\"select market.interest(AVG(market.userinterest({given},{target},sum_categories1)), SUM(market.weight({given},sum_categories1))) as interest_{given}_{target} from market.market;{given};{target}\")       "
   ]
  },
  {
   "cell_type": "markdown",
   "id": "0a8a70bd",
   "metadata": {},
   "source": [
    "<b> Scrittura delle query in un file txt </b>"
   ]
  },
  {
   "cell_type": "code",
   "execution_count": 10,
   "id": "9dcfaeb0",
   "metadata": {},
   "outputs": [],
   "source": [
    "with open('listaQuerySQL.txt', 'w') as file:\n",
    "    for i in lista_query_user_interest:\n",
    "        file.write(i+'\\n')"
   ]
  },
  {
   "cell_type": "markdown",
   "id": "a50e15e5",
   "metadata": {},
   "source": [
    "<b> Suddivisione delle 812 query in gruppi da 48 per esigenze implementative ed esecutive </b>"
   ]
  },
  {
   "cell_type": "code",
   "execution_count": 12,
   "id": "0ae7feb7",
   "metadata": {},
   "outputs": [],
   "source": [
    "def divide_file(input_file, output_prefix, lines_per_file=48):\n",
    "    with open(input_file, 'r') as file:\n",
    "        lines = file.readlines()\n",
    "\n",
    "    total_lines = len(lines)\n",
    "\n",
    "    for i in range(0, total_lines, lines_per_file):\n",
    "        chunk = lines[i:i + lines_per_file]\n",
    "        output_file = f\"{output_prefix}_{i // lines_per_file + 1}.txt\"\n",
    "\n",
    "        with open(output_file, 'w') as outfile:\n",
    "            outfile.writelines(chunk)\n",
    "\n",
    "if __name__ == \"__main__\":\n",
    "    input_file = \"listaQuerySQL.txt\"\n",
    "    output_prefix = \"gruppoQuery\"\n",
    "    lines_per_file = 48\n",
    "    divide_file(input_file, output_prefix, lines_per_file)"
   ]
  }
 ],
 "metadata": {
  "kernelspec": {
   "display_name": "Python 3",
   "language": "python",
   "name": "python3"
  },
  "language_info": {
   "codemirror_mode": {
    "name": "ipython",
    "version": 3
   },
   "file_extension": ".py",
   "mimetype": "text/x-python",
   "name": "python",
   "nbconvert_exporter": "python",
   "pygments_lexer": "ipython3",
   "version": "3.8.8"
  }
 },
 "nbformat": 4,
 "nbformat_minor": 5
}
